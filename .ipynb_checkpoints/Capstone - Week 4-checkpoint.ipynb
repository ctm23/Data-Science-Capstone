{
 "cells": [
  {
   "cell_type": "markdown",
   "metadata": {},
   "source": [
    "# Data Science Capstone Project\n",
    "# Introduction\n",
    "The common saying in real estate is the three most important things when buying property are location, location, location. In my capstone project I will attempt to quantify the impact that the venues in a given location have on the price of both buying and short-term renting there.\n",
    "\n",
    "There were a few different lenses I wanted to use to look at the effect of venues on prices:\n",
    "* Total number of venues in a neighborhood\n",
    "* Variety of venues\n",
    "* Density of venues\n",
    "* Types of venues - is there one type of venue that affects price more drastically than others?\n",
    "\n",
    "\n",
    "# Data\n",
    "I used three different sources to gather my data for this project:\n",
    "* Foursquare\n",
    "* Airbnb\n",
    "* Zillow\n",
    "\n",
    "I used the Foursquare API to gather information about the venues in each neighborhood. I downloaded summary information and metrics for all rental listings in New York City from [Airbnb](http://insideairbnb.com/get-the-data.html). I downloaded the average sale price of homes for each neighborhood in NY from [Zillow](https://www.zillow.com/research/data/)."
   ]
  }
 ],
 "metadata": {
  "kernelspec": {
   "display_name": "Python 3",
   "language": "python",
   "name": "python3"
  },
  "language_info": {
   "codemirror_mode": {
    "name": "ipython",
    "version": 3
   },
   "file_extension": ".py",
   "mimetype": "text/x-python",
   "name": "python",
   "nbconvert_exporter": "python",
   "pygments_lexer": "ipython3",
   "version": "3.7.3"
  }
 },
 "nbformat": 4,
 "nbformat_minor": 4
}
